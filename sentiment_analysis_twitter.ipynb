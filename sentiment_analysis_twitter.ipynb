{
 "cells": [
  {
   "cell_type": "markdown",
   "id": "ec990c8d",
   "metadata": {},
   "source": [
    "# Sentiment analysys of brazilian presidential candidates of 2022\n",
    "\n",
    "## In this project we are going to analyse tweets mentioning the 2 most popular candidates in presidential elections.\n",
    "\n",
    "<p>In order to perfom this analysis I created some custom functions to make the code cleaner and more objective. All of these functions are on \"my_library.py\" file. \n",
    "<p>The data in use has been saven in the cloud, on AWS MYSQL database.\n",
    "<p>The access keys of the database and twitter api are stored in the corresponding json files"
   ]
  },
  {
   "cell_type": "code",
   "execution_count": 25,
   "id": "d0801029",
   "metadata": {},
   "outputs": [],
   "source": [
    "import json\n",
    "import pandas as pd\n",
    "import tweepy as tw\n",
    "from textblob import TextBlob\n",
    "from googletrans import Translator\n",
    "from unidecode import unidecode\n",
    "import seaborn as sns\n",
    "from nltk.corpus import stopwords\n",
    "from nltk.stem import RSLPStemmer\n",
    "import re\n",
    "import pymysql\n",
    "from my_library import *\n",
    "import matplotlib.pyplot as plt"
   ]
  },
  {
   "cell_type": "markdown",
   "id": "47d90930",
   "metadata": {},
   "source": [
    "# Getting data from aws MySQL"
   ]
  },
  {
   "cell_type": "markdown",
   "id": "aa84c42d",
   "metadata": {},
   "source": [
    "In order to get our data from aws we need the login information, that is stored in a json file for security reasons. The file name is aws_mysql_key.json\n",
    "We are going to load the information into some variables"
   ]
  },
  {
   "cell_type": "code",
   "execution_count": 2,
   "id": "9004adb4",
   "metadata": {},
   "outputs": [],
   "source": [
    "with open(\"aws_mysql_key.json\") as aws_keys:\n",
    "    keys = json.load(aws_keys)\n",
    "    aws_user = keys['user']\n",
    "    aws_password = keys['password']\n",
    "    aws_endpoint = keys['endpoint']\n",
    "    aws_dbname = keys['databasename']"
   ]
  },
  {
   "cell_type": "markdown",
   "id": "eb057ce9",
   "metadata": {},
   "source": [
    "<b>Now that we have the info from aws we can create the dataset. First we will get all the items from tables Lula and Bolsonaro"
   ]
  },
  {
   "cell_type": "code",
   "execution_count": 3,
   "id": "c24646f4",
   "metadata": {},
   "outputs": [],
   "source": [
    "bolsonaro_data = get_items_aws(\"Bolsonaro\",\n",
    "                              aws_endpoint,\n",
    "                              aws_user,\n",
    "                              aws_password,\n",
    "                              aws_dbname)\n",
    "\n",
    "lula_data = get_items_aws(\"Lula\",\n",
    "                              aws_endpoint,\n",
    "                              aws_user,\n",
    "                              aws_password,\n",
    "                              aws_dbname)"
   ]
  },
  {
   "cell_type": "markdown",
   "id": "bed100b9",
   "metadata": {},
   "source": [
    "<b>After importing the data we need to mold it so we can work on the dataset. Let's see the first item"
   ]
  },
  {
   "cell_type": "code",
   "execution_count": 4,
   "id": "cb2706ca",
   "metadata": {},
   "outputs": [
    {
     "data": {
      "text/plain": [
       "(1,\n",
       " \"@jairbolsonaro @govbr Why haven't they put the Tax on large fortunes into effect yet?\")"
      ]
     },
     "execution_count": 4,
     "metadata": {},
     "output_type": "execute_result"
    }
   ],
   "source": [
    "bolsonaro_data[0]"
   ]
  },
  {
   "cell_type": "markdown",
   "id": "0325fdf6",
   "metadata": {},
   "source": [
    "<b>As we can see the return data is a tuple os 2 elements: a number corresponding to the index ans the text itself. We just need the text:"
   ]
  },
  {
   "cell_type": "code",
   "execution_count": 5,
   "id": "f61f5c11",
   "metadata": {},
   "outputs": [],
   "source": [
    "bolsonaro_data = tuple([row[1:] for row in bolsonaro_data])\n",
    "lula_data = tuple([row[1:] for row in lula_data])"
   ]
  },
  {
   "cell_type": "code",
   "execution_count": 6,
   "id": "434620fb",
   "metadata": {},
   "outputs": [
    {
     "name": "stdout",
     "output_type": "stream",
     "text": [
      "(\"@jairbolsonaro @govbr Why haven't they put the Tax on large fortunes into effect yet?\",)\n"
     ]
    }
   ],
   "source": [
    "print(bolsonaro_data[0])"
   ]
  },
  {
   "cell_type": "markdown",
   "id": "7068ad8f",
   "metadata": {},
   "source": [
    "<b>Our data has just the text we need. The next step is to create a Pandas DataFrame "
   ]
  },
  {
   "cell_type": "code",
   "execution_count": 7,
   "id": "6cc12f5d",
   "metadata": {},
   "outputs": [],
   "source": [
    "lula_df = pd.DataFrame(lula_data, index=None)\n",
    "bolsonaro_df = pd.DataFrame(bolsonaro_data, index=None)"
   ]
  },
  {
   "cell_type": "code",
   "execution_count": 8,
   "id": "ce839beb",
   "metadata": {},
   "outputs": [
    {
     "data": {
      "text/html": [
       "<div>\n",
       "<style scoped>\n",
       "    .dataframe tbody tr th:only-of-type {\n",
       "        vertical-align: middle;\n",
       "    }\n",
       "\n",
       "    .dataframe tbody tr th {\n",
       "        vertical-align: top;\n",
       "    }\n",
       "\n",
       "    .dataframe thead th {\n",
       "        text-align: right;\n",
       "    }\n",
       "</style>\n",
       "<table border=\"1\" class=\"dataframe\">\n",
       "  <thead>\n",
       "    <tr style=\"text-align: right;\">\n",
       "      <th></th>\n",
       "      <th>0</th>\n",
       "    </tr>\n",
       "  </thead>\n",
       "  <tbody>\n",
       "    <tr>\n",
       "      <th>0</th>\n",
       "      <td>@LulaOficial @alexandrekalil @ricardostuckert ...</td>\n",
       "    </tr>\n",
       "    <tr>\n",
       "      <th>1</th>\n",
       "      <td>@floresdepapel6 @IracemaFH @LulaOficial There ...</td>\n",
       "    </tr>\n",
       "    <tr>\n",
       "      <th>2</th>\n",
       "      <td>@LulaOficial The left has always made a stand ...</td>\n",
       "    </tr>\n",
       "    <tr>\n",
       "      <th>3</th>\n",
       "      <td>@AntifaCruzeiro @julioAguiarJC @LulaOficial @a...</td>\n",
       "    </tr>\n",
       "    <tr>\n",
       "      <th>4</th>\n",
       "      <td>@Marcos29898805 @AndreiaSAzul @LulaOficial @Dr...</td>\n",
       "    </tr>\n",
       "  </tbody>\n",
       "</table>\n",
       "</div>"
      ],
      "text/plain": [
       "                                                   0\n",
       "0  @LulaOficial @alexandrekalil @ricardostuckert ...\n",
       "1  @floresdepapel6 @IracemaFH @LulaOficial There ...\n",
       "2  @LulaOficial The left has always made a stand ...\n",
       "3  @AntifaCruzeiro @julioAguiarJC @LulaOficial @a...\n",
       "4  @Marcos29898805 @AndreiaSAzul @LulaOficial @Dr..."
      ]
     },
     "execution_count": 8,
     "metadata": {},
     "output_type": "execute_result"
    }
   ],
   "source": [
    "lula_df.head()"
   ]
  },
  {
   "cell_type": "code",
   "execution_count": 9,
   "id": "0887816e",
   "metadata": {},
   "outputs": [
    {
     "data": {
      "text/html": [
       "<div>\n",
       "<style scoped>\n",
       "    .dataframe tbody tr th:only-of-type {\n",
       "        vertical-align: middle;\n",
       "    }\n",
       "\n",
       "    .dataframe tbody tr th {\n",
       "        vertical-align: top;\n",
       "    }\n",
       "\n",
       "    .dataframe thead th {\n",
       "        text-align: right;\n",
       "    }\n",
       "</style>\n",
       "<table border=\"1\" class=\"dataframe\">\n",
       "  <thead>\n",
       "    <tr style=\"text-align: right;\">\n",
       "      <th></th>\n",
       "      <th>0</th>\n",
       "    </tr>\n",
       "  </thead>\n",
       "  <tbody>\n",
       "    <tr>\n",
       "      <th>0</th>\n",
       "      <td>@jairbolsonaro @govbr Why haven't they put the...</td>\n",
       "    </tr>\n",
       "    <tr>\n",
       "      <th>1</th>\n",
       "      <td>@tati_anacosta @jairbolsonaro We will have!!! ...</td>\n",
       "    </tr>\n",
       "    <tr>\n",
       "      <th>2</th>\n",
       "      <td>@diogocosta @jairbolsonaro The hard thing is t...</td>\n",
       "    </tr>\n",
       "    <tr>\n",
       "      <th>3</th>\n",
       "      <td>@ElaineApdaSilv2 @jairbolsonaro If you look fo...</td>\n",
       "    </tr>\n",
       "    <tr>\n",
       "      <th>4</th>\n",
       "      <td>@dramayraoficial @jairbolsonaro Pará</td>\n",
       "    </tr>\n",
       "  </tbody>\n",
       "</table>\n",
       "</div>"
      ],
      "text/plain": [
       "                                                   0\n",
       "0  @jairbolsonaro @govbr Why haven't they put the...\n",
       "1  @tati_anacosta @jairbolsonaro We will have!!! ...\n",
       "2  @diogocosta @jairbolsonaro The hard thing is t...\n",
       "3  @ElaineApdaSilv2 @jairbolsonaro If you look fo...\n",
       "4               @dramayraoficial @jairbolsonaro Pará"
      ]
     },
     "execution_count": 9,
     "metadata": {},
     "output_type": "execute_result"
    }
   ],
   "source": [
    "bolsonaro_df.head()"
   ]
  },
  {
   "cell_type": "markdown",
   "id": "30aac803",
   "metadata": {},
   "source": [
    "# Cleaning the data\n",
    "\n",
    "<b>There are 2 different dataframes, one for Bolsonaro and another for Lula. For better sentiment analysis we need to clean the tweets. We are going to use our custom preprocessing pipeline that perfomrs:\n",
    "    <br>-weird characters and ponctuation removal\n",
    "    <br>-remove stop words\n",
    "    <br>-stemming"
   ]
  },
  {
   "cell_type": "code",
   "execution_count": 10,
   "id": "cbe4eb17",
   "metadata": {},
   "outputs": [
    {
     "data": {
      "text/html": [
       "<div>\n",
       "<style scoped>\n",
       "    .dataframe tbody tr th:only-of-type {\n",
       "        vertical-align: middle;\n",
       "    }\n",
       "\n",
       "    .dataframe tbody tr th {\n",
       "        vertical-align: top;\n",
       "    }\n",
       "\n",
       "    .dataframe thead th {\n",
       "        text-align: right;\n",
       "    }\n",
       "</style>\n",
       "<table border=\"1\" class=\"dataframe\">\n",
       "  <thead>\n",
       "    <tr style=\"text-align: right;\">\n",
       "      <th></th>\n",
       "      <th>0</th>\n",
       "    </tr>\n",
       "  </thead>\n",
       "  <tbody>\n",
       "    <tr>\n",
       "      <th>count</th>\n",
       "      <td>9367</td>\n",
       "    </tr>\n",
       "    <tr>\n",
       "      <th>unique</th>\n",
       "      <td>8782</td>\n",
       "    </tr>\n",
       "    <tr>\n",
       "      <th>top</th>\n",
       "      <td>@jairbolsonaro DO YOU KNOW WHY LULA IS NOT CON...</td>\n",
       "    </tr>\n",
       "    <tr>\n",
       "      <th>freq</th>\n",
       "      <td>15</td>\n",
       "    </tr>\n",
       "  </tbody>\n",
       "</table>\n",
       "</div>"
      ],
      "text/plain": [
       "                                                        0\n",
       "count                                                9367\n",
       "unique                                               8782\n",
       "top     @jairbolsonaro DO YOU KNOW WHY LULA IS NOT CON...\n",
       "freq                                                   15"
      ]
     },
     "execution_count": 10,
     "metadata": {},
     "output_type": "execute_result"
    }
   ],
   "source": [
    "#Removing duplicates:\n",
    "bolsonaro_df.describe()"
   ]
  },
  {
   "cell_type": "code",
   "execution_count": 14,
   "id": "ba541d36",
   "metadata": {},
   "outputs": [],
   "source": [
    "lula_df.drop_duplicates(inplace=True)\n",
    "bolsonaro_df.drop_duplicates(inplace=True)"
   ]
  },
  {
   "cell_type": "code",
   "execution_count": 15,
   "id": "8f1ce59e",
   "metadata": {},
   "outputs": [
    {
     "data": {
      "text/html": [
       "<div>\n",
       "<style scoped>\n",
       "    .dataframe tbody tr th:only-of-type {\n",
       "        vertical-align: middle;\n",
       "    }\n",
       "\n",
       "    .dataframe tbody tr th {\n",
       "        vertical-align: top;\n",
       "    }\n",
       "\n",
       "    .dataframe thead th {\n",
       "        text-align: right;\n",
       "    }\n",
       "</style>\n",
       "<table border=\"1\" class=\"dataframe\">\n",
       "  <thead>\n",
       "    <tr style=\"text-align: right;\">\n",
       "      <th></th>\n",
       "      <th>0</th>\n",
       "    </tr>\n",
       "  </thead>\n",
       "  <tbody>\n",
       "    <tr>\n",
       "      <th>count</th>\n",
       "      <td>9124</td>\n",
       "    </tr>\n",
       "    <tr>\n",
       "      <th>unique</th>\n",
       "      <td>9124</td>\n",
       "    </tr>\n",
       "    <tr>\n",
       "      <th>top</th>\n",
       "      <td>@LulaOficial @alexandrekalil @ricardostuckert ...</td>\n",
       "    </tr>\n",
       "    <tr>\n",
       "      <th>freq</th>\n",
       "      <td>1</td>\n",
       "    </tr>\n",
       "  </tbody>\n",
       "</table>\n",
       "</div>"
      ],
      "text/plain": [
       "                                                        0\n",
       "count                                                9124\n",
       "unique                                               9124\n",
       "top     @LulaOficial @alexandrekalil @ricardostuckert ...\n",
       "freq                                                    1"
      ]
     },
     "execution_count": 15,
     "metadata": {},
     "output_type": "execute_result"
    }
   ],
   "source": [
    "lula_df.describe()"
   ]
  },
  {
   "cell_type": "code",
   "execution_count": 16,
   "id": "52360aaa",
   "metadata": {},
   "outputs": [],
   "source": [
    "lula_df [0] = [preprocess_data_pipe(x) for x in lula_df[0]]\n",
    "bolsonaro_df[0] = [preprocess_data_pipe(x) for x in bolsonaro_df[0]]"
   ]
  },
  {
   "cell_type": "code",
   "execution_count": 17,
   "id": "d6b114be",
   "metadata": {},
   "outputs": [
    {
     "data": {
      "text/html": [
       "<div>\n",
       "<style scoped>\n",
       "    .dataframe tbody tr th:only-of-type {\n",
       "        vertical-align: middle;\n",
       "    }\n",
       "\n",
       "    .dataframe tbody tr th {\n",
       "        vertical-align: top;\n",
       "    }\n",
       "\n",
       "    .dataframe thead th {\n",
       "        text-align: right;\n",
       "    }\n",
       "</style>\n",
       "<table border=\"1\" class=\"dataframe\">\n",
       "  <thead>\n",
       "    <tr style=\"text-align: right;\">\n",
       "      <th></th>\n",
       "      <th>0</th>\n",
       "    </tr>\n",
       "  </thead>\n",
       "  <tbody>\n",
       "    <tr>\n",
       "      <th>0</th>\n",
       "      <td>put tax larg foun effect yet</td>\n",
       "    </tr>\n",
       "    <tr>\n",
       "      <th>1</th>\n",
       "      <td>anacost eah magnetic pol returning real plac g...</td>\n",
       "    </tr>\n",
       "    <tr>\n",
       "      <th>2</th>\n",
       "      <td>hard thing find good</td>\n",
       "    </tr>\n",
       "    <tr>\n",
       "      <th>3</th>\n",
       "      <td>look information old newspap know robbery ptis...</td>\n",
       "    </tr>\n",
       "    <tr>\n",
       "      <th>4</th>\n",
       "      <td>par</td>\n",
       "    </tr>\n",
       "  </tbody>\n",
       "</table>\n",
       "</div>"
      ],
      "text/plain": [
       "                                                   0\n",
       "0                       put tax larg foun effect yet\n",
       "1  anacost eah magnetic pol returning real plac g...\n",
       "2                               hard thing find good\n",
       "3  look information old newspap know robbery ptis...\n",
       "4                                                par"
      ]
     },
     "execution_count": 17,
     "metadata": {},
     "output_type": "execute_result"
    }
   ],
   "source": [
    "bolsonaro_df.head()"
   ]
  },
  {
   "cell_type": "markdown",
   "id": "b81219d9",
   "metadata": {},
   "source": [
    "# Sentiment analysis\n",
    "\n",
    "<b> Now we are ready to perform sentiment analysis on the dataframe. \n",
    "We are going to create a new column storing the result of TextBlob"
   ]
  },
  {
   "cell_type": "code",
   "execution_count": 18,
   "id": "0c235c1b",
   "metadata": {},
   "outputs": [],
   "source": [
    "lula_df[1] = [transform_sentiment_classes(x) for x in lula_df[0]]\n",
    "bolsonaro_df[1] = [transform_sentiment_classes(x) for x in bolsonaro_df[0]]"
   ]
  },
  {
   "cell_type": "code",
   "execution_count": 19,
   "id": "1f3f3ed6",
   "metadata": {},
   "outputs": [
    {
     "data": {
      "text/html": [
       "<div>\n",
       "<style scoped>\n",
       "    .dataframe tbody tr th:only-of-type {\n",
       "        vertical-align: middle;\n",
       "    }\n",
       "\n",
       "    .dataframe tbody tr th {\n",
       "        vertical-align: top;\n",
       "    }\n",
       "\n",
       "    .dataframe thead th {\n",
       "        text-align: right;\n",
       "    }\n",
       "</style>\n",
       "<table border=\"1\" class=\"dataframe\">\n",
       "  <thead>\n",
       "    <tr style=\"text-align: right;\">\n",
       "      <th></th>\n",
       "      <th>0</th>\n",
       "      <th>1</th>\n",
       "    </tr>\n",
       "  </thead>\n",
       "  <tbody>\n",
       "    <tr>\n",
       "      <th>0</th>\n",
       "      <td>diy thief commitment lie corruption ptralh org...</td>\n",
       "      <td>neutral</td>\n",
       "    </tr>\n",
       "    <tr>\n",
       "      <th>1</th>\n",
       "      <td>repo photograph suppo good morning nand</td>\n",
       "      <td>positive</td>\n",
       "    </tr>\n",
       "    <tr>\n",
       "      <th>2</th>\n",
       "      <td>left alway mad stand dead</td>\n",
       "      <td>negative</td>\n",
       "    </tr>\n",
       "    <tr>\n",
       "      <th>3</th>\n",
       "      <td>pay sh tax send pix</td>\n",
       "      <td>neutral</td>\n",
       "    </tr>\n",
       "    <tr>\n",
       "      <th>4</th>\n",
       "      <td>asked question propos futur past want know pla...</td>\n",
       "      <td>negative</td>\n",
       "    </tr>\n",
       "  </tbody>\n",
       "</table>\n",
       "</div>"
      ],
      "text/plain": [
       "                                                   0         1\n",
       "0  diy thief commitment lie corruption ptralh org...   neutral\n",
       "1            repo photograph suppo good morning nand  positive\n",
       "2                          left alway mad stand dead  negative\n",
       "3                                pay sh tax send pix   neutral\n",
       "4  asked question propos futur past want know pla...  negative"
      ]
     },
     "execution_count": 19,
     "metadata": {},
     "output_type": "execute_result"
    }
   ],
   "source": [
    "lula_df.head()"
   ]
  },
  {
   "cell_type": "markdown",
   "id": "07fe9572",
   "metadata": {},
   "source": [
    "<b>In politics we have a lot of news that can be neutral but we are only interested in people's opinion about the candidates. So now let's drop the neutral tweets represented by 'neutral' in the second column"
   ]
  },
  {
   "cell_type": "code",
   "execution_count": 20,
   "id": "0c5ad3e9",
   "metadata": {},
   "outputs": [],
   "source": [
    "lula_df.drop(lula_df[lula_df[1] == 'neutral'].index, inplace=True)\n",
    "bolsonaro_df.drop(bolsonaro_df[bolsonaro_df[1] == 'neutral'].index, inplace=True)"
   ]
  },
  {
   "cell_type": "code",
   "execution_count": 21,
   "id": "fa894141",
   "metadata": {},
   "outputs": [
    {
     "data": {
      "text/html": [
       "<div>\n",
       "<style scoped>\n",
       "    .dataframe tbody tr th:only-of-type {\n",
       "        vertical-align: middle;\n",
       "    }\n",
       "\n",
       "    .dataframe tbody tr th {\n",
       "        vertical-align: top;\n",
       "    }\n",
       "\n",
       "    .dataframe thead th {\n",
       "        text-align: right;\n",
       "    }\n",
       "</style>\n",
       "<table border=\"1\" class=\"dataframe\">\n",
       "  <thead>\n",
       "    <tr style=\"text-align: right;\">\n",
       "      <th></th>\n",
       "      <th>0</th>\n",
       "      <th>1</th>\n",
       "    </tr>\n",
       "  </thead>\n",
       "  <tbody>\n",
       "    <tr>\n",
       "      <th>1</th>\n",
       "      <td>repo photograph suppo good morning nand</td>\n",
       "      <td>positive</td>\n",
       "    </tr>\n",
       "    <tr>\n",
       "      <th>2</th>\n",
       "      <td>left alway mad stand dead</td>\n",
       "      <td>negative</td>\n",
       "    </tr>\n",
       "    <tr>\n",
       "      <th>4</th>\n",
       "      <td>asked question propos futur past want know pla...</td>\n",
       "      <td>negative</td>\n",
       "    </tr>\n",
       "    <tr>\n",
       "      <th>7</th>\n",
       "      <td>built universiti bricklay architect engine etc...</td>\n",
       "      <td>positive</td>\n",
       "    </tr>\n",
       "    <tr>\n",
       "      <th>11</th>\n",
       "      <td>good morning l</td>\n",
       "      <td>positive</td>\n",
       "    </tr>\n",
       "  </tbody>\n",
       "</table>\n",
       "</div>"
      ],
      "text/plain": [
       "                                                    0         1\n",
       "1             repo photograph suppo good morning nand  positive\n",
       "2                           left alway mad stand dead  negative\n",
       "4   asked question propos futur past want know pla...  negative\n",
       "7   built universiti bricklay architect engine etc...  positive\n",
       "11                                     good morning l  positive"
      ]
     },
     "execution_count": 21,
     "metadata": {},
     "output_type": "execute_result"
    }
   ],
   "source": [
    "lula_df.head()"
   ]
  },
  {
   "cell_type": "code",
   "execution_count": 22,
   "id": "bff052c8",
   "metadata": {},
   "outputs": [
    {
     "data": {
      "text/html": [
       "<div>\n",
       "<style scoped>\n",
       "    .dataframe tbody tr th:only-of-type {\n",
       "        vertical-align: middle;\n",
       "    }\n",
       "\n",
       "    .dataframe tbody tr th {\n",
       "        vertical-align: top;\n",
       "    }\n",
       "\n",
       "    .dataframe thead th {\n",
       "        text-align: right;\n",
       "    }\n",
       "</style>\n",
       "<table border=\"1\" class=\"dataframe\">\n",
       "  <thead>\n",
       "    <tr style=\"text-align: right;\">\n",
       "      <th></th>\n",
       "      <th>0</th>\n",
       "      <th>1</th>\n",
       "    </tr>\n",
       "  </thead>\n",
       "  <tbody>\n",
       "    <tr>\n",
       "      <th>1</th>\n",
       "      <td>anacost eah magnetic pol returning real plac g...</td>\n",
       "      <td>positive</td>\n",
       "    </tr>\n",
       "    <tr>\n",
       "      <th>2</th>\n",
       "      <td>hard thing find good</td>\n",
       "      <td>positive</td>\n",
       "    </tr>\n",
       "    <tr>\n",
       "      <th>3</th>\n",
       "      <td>look information old newspap know robbery ptis...</td>\n",
       "      <td>positive</td>\n",
       "    </tr>\n",
       "    <tr>\n",
       "      <th>5</th>\n",
       "      <td>evil person</td>\n",
       "      <td>negative</td>\n",
       "    </tr>\n",
       "    <tr>\n",
       "      <th>8</th>\n",
       "      <td>penitentiari brazil build 100 spac form expans...</td>\n",
       "      <td>positive</td>\n",
       "    </tr>\n",
       "  </tbody>\n",
       "</table>\n",
       "</div>"
      ],
      "text/plain": [
       "                                                   0         1\n",
       "1  anacost eah magnetic pol returning real plac g...  positive\n",
       "2                               hard thing find good  positive\n",
       "3  look information old newspap know robbery ptis...  positive\n",
       "5                                        evil person  negative\n",
       "8  penitentiari brazil build 100 spac form expans...  positive"
      ]
     },
     "execution_count": 22,
     "metadata": {},
     "output_type": "execute_result"
    }
   ],
   "source": [
    "bolsonaro_df.head()"
   ]
  },
  {
   "cell_type": "markdown",
   "id": "4189dab4",
   "metadata": {},
   "source": [
    "# Visualizing the results\n",
    "\n",
    "<b>After all the steps, now is the time to show the final results by ploting the percentage of negative and positive tweets of each candidate"
   ]
  },
  {
   "cell_type": "code",
   "execution_count": 64,
   "id": "123530df",
   "metadata": {},
   "outputs": [
    {
     "data": {
      "image/png": "[encoded data removed]",
      "text/plain": [
       "<Figure size 720x360 with 2 Axes>"
      ]
     },
     "metadata": {
      "needs_background": "light"
     },
     "output_type": "display_data"
    }
   ],
   "source": [
    "\n",
    "fig, ax = plt.subplots(1, 2, figsize=(10,5))\n",
    "sns.countplot(x=1, data=bolsonaro_df,ax=ax[0])\n",
    "sns.countplot(x=1, data=lula_df,ax=ax[1])\n",
    "ax[0].set_title(\"Bolsonaro\")\n",
    "ax[1].set_title(\"Lula\")\n",
    "ax[0].set_xlabel(\"Sentiment\")\n",
    "ax[1].set_xlabel(\"Sentiment\")\n",
    "\n",
    "#Loops for inserting percentage on top of each bar\n",
    "for p in ax[0].patches:\n",
    "        ax[0].annotate('{:.1f}%'.format(100*p.get_height()/len(bolsonaro_df)), (p.get_x()+0.1, p.get_height()+5))\n",
    "for p in ax[1].patches:\n",
    "        ax[1].annotate('{:.1f}%'.format(100*p.get_height()/len(bolsonaro_df)), (p.get_x()+0.1, p.get_height()+5))"
   ]
  }
 ],
 "metadata": {
  "kernelspec": {
   "display_name": "Python 3 (ipykernel)",
   "language": "python",
   "name": "python3"
  },
  "language_info": {
   "codemirror_mode": {
    "name": "ipython",
    "version": 3
   },
   "file_extension": ".py",
   "mimetype": "text/x-python",
   "name": "python",
   "nbconvert_exporter": "python",
   "pygments_lexer": "ipython3",
   "version": "3.9.12"
  }
 },
 "nbformat": 4,
 "nbformat_minor": 5
}
